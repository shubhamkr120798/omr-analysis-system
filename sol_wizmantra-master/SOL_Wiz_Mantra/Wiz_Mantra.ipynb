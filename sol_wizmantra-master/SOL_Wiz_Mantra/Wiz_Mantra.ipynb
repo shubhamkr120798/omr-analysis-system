{
 "cells": [
  {
   "cell_type": "code",
   "execution_count": 314,
   "metadata": {
    "collapsed": false
   },
   "outputs": [],
   "source": [
    "import cv2\n",
    "import numpy as np\n",
    "from matplotlib import pyplot as plt\n",
    "d = []\n",
    "\n",
    "Error =[[\"ME3081\",\"nope\",\"ME3081\",\"ME2081\"],\n",
    "        [\"ME3081\",\"ME3081\",\"ME306\",\"nope\"],\n",
    "        [\"ME3081\",\"nope\",\"ME306\",\"ME3081\"],\n",
    "        [\"nope\",\"ME3081\",\"ME3081\",\"ME2081\"],\n",
    "        [\"ME3081\",\"nope\",\"ME3081\",\"ME306\"],\n",
    "        \n",
    "        [\"ME3081\",\"ME3081\",\"ME306\",\"ME306\"],\n",
    "        [\"ME3062\",\"nope\",\"ME3081\",\"ME306\"],\n",
    "        [\"ME3062\",\"nope\",\"ME3081\",\"ME306\"],\n",
    "        [\"ME3081\",\"ME3081\",\"ME3062\",\"nope\"],\n",
    "        \n",
    "        [\"ME3081\",\"ME306\",\"ME3062\",\"nope\"],\n",
    "        [\"ME3081\",\"nope\",\"ME3062\",\"ME2081\"],\n",
    "        [\"nope\",\"ME3081\",\"ME3081\",\"ME3062\"],\n",
    "        [\"ME3115\",\"nope\",\"nope\",\"ME3110\"],\n",
    "        [\"ME3115\",\"nope\",\"ME3110\",\"ME3116\"],\n",
    "        \n",
    "        [\"ME3115\",\"ME3116\",\"nope\",\"ME3110\"],\n",
    "        [\"ME3115\",\"nope\",\"ME3116\",\"ME3110\"],\n",
    "        [\"nope\",\"ME3110\",\"ME3110\",\"ME311\"],\n",
    "        [\"ME3116\",\"ME3115\",\"ME311\",\"nope\"],\n",
    "        [\"nope\",\"ME3116\",\"ME3115\",\"ME311\"],\n",
    "        \n",
    "        [\"ME3116\",\"ME3115\",\"ME3115\",\"ME311\"],\n",
    "        [\"nope\",\"ME3116\",\"ME3115\",\"ME3111\"],\n",
    "        [\"ME3110\",\"ME2063\",\"nope\",\"ME3111\"],\n",
    "        [\"nope\",\"ME3110\",\"ME311\",\"ME311\"]]\n",
    "\n",
    "\n",
    "def getd():  \n",
    "    Error1=Error[:]          \n",
    "    img_rgb = cv2.imread('rss.jpg')\n",
    "    \n",
    "    img_rgb1 = cv2.imread('rss.jpg',0)\n",
    "    img_gray = cv2.cvtColor(img_rgb, cv2.COLOR_BGR2GRAY)\n",
    "            \n",
    "    template1 = cv2.imread('Tick1.JPG',0)\n",
    "    #template2 = cv2.imread('Star.jpg',0)\n",
    "    #template3 = cv2.imread('Cross.jpg',0)\n",
    "            \n",
    "    \n",
    "    w, h = template1.shape[::-1]\n",
    "    W, H = img_rgb1.shape[::-1]\n",
    "\n",
    "    res = cv2.matchTemplate(img_gray,template1,cv2.TM_CCOEFF_NORMED)\n",
    "    \n",
    "    threshold = 0.5\n",
    "    \n",
    "    #res2 = cv2.matchTemplate(img_gray,template2,cv2.TM_CCOEFF_NORMED)\n",
    "    #res3 = cv2.matchTemplate(img_gray,template3,cv2.TM_CCOEFF_NORMED)\n",
    "                \n",
    "    loc = np.where(res >= threshold)\n",
    "    #loc+=np.where(res2 >= threshold)+np.where(res3 >= threshold)\n",
    "    #loc=np.argsort(loc, order=('y', 'x'))               \n",
    "                \n",
    "    c=0        \n",
    "    f=set()        \n",
    "    for pt in zip(*loc[::-1]):\n",
    "        if(len(d)>22):\n",
    "            break\n",
    "        \n",
    "        if(pt[0]>=0 and pt[0]<=W/4):\n",
    "            if(Error1[c][0]!=-1):\n",
    "                d.append(Error1[c][0])\n",
    "                cv2.rectangle(img_rgb, pt, (pt[0] + w, pt[1] + h), (0,0,255), 2)\n",
    "                Error1[c][0]=-1\n",
    "        elif(pt[0]>W/4 and pt[0]<=W/2):\n",
    "             if(Error1[c][1]!=-1):\n",
    "                d.append(Error1[c][1])\n",
    "                cv2.rectangle(img_rgb, pt, (pt[0] + w, pt[1] + h), (0,0,255), 2)\n",
    "                Error1[c][1]=-1\n",
    "        elif(pt[0]>W/2 and pt[0]<=(3*W)/4):\n",
    "             if(Error1[c][2]!=-1):\n",
    "                d.append(Error1[c][2])\n",
    "                cv2.rectangle(img_rgb, pt, (pt[0] + w, pt[1] + h), (0,0,255), 2)\n",
    "                Error1[c][2]=-1\n",
    "        elif(pt[0]>(3*W)/4 and pt[0]<=W):\n",
    "             if(Error1[c][3]!=-1):\n",
    "                d.append(Error1[c][3])\n",
    "                cv2.rectangle(img_rgb, pt, (pt[0] + w, pt[1] + h), (0,0,255), 2)\n",
    "                Error1[c][3]=-1\n",
    "        c+=1   \n",
    "                   \n",
    "        \n",
    "    dp={}\n",
    "    \n",
    "    print(len(d))\n",
    "    \n",
    "    for i in range(len(d)):\n",
    "        #dp[d[i]]+=1\n",
    "        dp[d[i]] = dp.get(d[i], 0) + 1\n",
    "    \n",
    "    for key, value in dp.items():\n",
    "        print(key,\" \",value)\n",
    "        \n",
    "    cv2.imwrite('rss5.jpg',img_rgb)\n",
    "    return\n",
    "#End of Part 1"
   ]
  },
  {
   "cell_type": "code",
   "execution_count": 315,
   "metadata": {
    "collapsed": false,
    "scrolled": true
   },
   "outputs": [
    {
     "name": "stdout",
     "output_type": "stream",
     "text": [
      "23\n",
      "nope   3\n",
      "ME3081   6\n",
      "ME3062   3\n",
      "ME311   2\n",
      "ME3115   3\n",
      "ME306   3\n",
      "ME3116   1\n",
      "ME3110   2\n"
     ]
    }
   ],
   "source": [
    "getd()"
   ]
  },
  {
   "cell_type": "code",
   "execution_count": null,
   "metadata": {
    "collapsed": true
   },
   "outputs": [],
   "source": [
    "def solveBayes():\n",
    "    #Bayesian Method\n",
    "    dictt={}\n",
    "    sums=0\n",
    "    for i in len(d):\n",
    "        for j in len(d[i-1]):\n",
    "            dictt[d[i-1][j-1]]+=1\n",
    "            sum+=1\n",
    "    \n",
    "    prob=[]\n",
    "    for key, value in dictt.items():\n",
    "            prob[key]=(value)/sum\n",
    "    pcond=[]\n",
    "    "
   ]
  },
  {
   "cell_type": "code",
   "execution_count": null,
   "metadata": {
    "collapsed": true
   },
   "outputs": [],
   "source": [
    "getd();\n",
    "solveBayes();"
   ]
  },
  {
   "cell_type": "code",
   "execution_count": null,
   "metadata": {
    "collapsed": true
   },
   "outputs": [],
   "source": []
  }
 ],
 "metadata": {
  "kernelspec": {
   "display_name": "Python 3",
   "language": "python",
   "name": "python3"
  },
  "language_info": {
   "codemirror_mode": {
    "name": "ipython",
    "version": 3
   },
   "file_extension": ".py",
   "mimetype": "text/x-python",
   "name": "python",
   "nbconvert_exporter": "python",
   "pygments_lexer": "ipython3",
   "version": "3.5.2"
  }
 },
 "nbformat": 4,
 "nbformat_minor": 2
}
